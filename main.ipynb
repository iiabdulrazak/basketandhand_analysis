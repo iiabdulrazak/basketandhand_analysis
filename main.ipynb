{
 "metadata": {
  "language_info": {
   "codemirror_mode": {
    "name": "ipython",
    "version": 3
   },
   "file_extension": ".py",
   "mimetype": "text/x-python",
   "name": "python",
   "nbconvert_exporter": "python",
   "pygments_lexer": "ipython3",
   "version": "3.8.5"
  },
  "orig_nbformat": 4,
  "kernelspec": {
   "name": "python3",
   "display_name": "Python 3.8.5 64-bit ('env': venv)"
  },
  "interpreter": {
   "hash": "9d850c51ee04f83f0726e30bf8664ec939a9c72d73ef564e8f2cf0925ccbda39"
  }
 },
 "nbformat": 4,
 "nbformat_minor": 2,
 "cells": [
  {
   "cell_type": "code",
   "execution_count": 1,
   "metadata": {},
   "outputs": [],
   "source": [
    "#importing needed packages\n",
    "import pandas as pd\n",
    "import matplotlib.pyplot as plt"
   ]
  },
  {
   "cell_type": "code",
   "execution_count": 4,
   "metadata": {},
   "outputs": [],
   "source": [
    "#importing data files\n",
    "basket = pd.read_csv('data/basket.csv', names=('name','nickname','number','team','position','scored points','rebounds','assists'))\n",
    "\n",
    "hand = pd.read_csv('data/hand.csv', names=('name','nickname','number','team','position','goals made','goals received'))"
   ]
  },
  {
   "cell_type": "code",
   "execution_count": 128,
   "metadata": {},
   "outputs": [
    {
     "output_type": "display_data",
     "data": {
      "text/plain": "   name     nickname  number team position  scored points  rebounds  assists  \\\n0     1   abdulrazak       4    A        G             10         2        7   \n1     2  abdulrahman       8    A        F              0        10        0   \n2     3  abdulraqeeb      15    A        C             15        10        4   \n3     4     mohammed      16    B        G             20         0        0   \n4     5        feras      23    B        F              4         7        7   \n\n  total  \n0        \n1        \n2        \n3        \n4        ",
      "text/html": "<div>\n<style scoped>\n    .dataframe tbody tr th:only-of-type {\n        vertical-align: middle;\n    }\n\n    .dataframe tbody tr th {\n        vertical-align: top;\n    }\n\n    .dataframe thead th {\n        text-align: right;\n    }\n</style>\n<table border=\"1\" class=\"dataframe\">\n  <thead>\n    <tr style=\"text-align: right;\">\n      <th></th>\n      <th>name</th>\n      <th>nickname</th>\n      <th>number</th>\n      <th>team</th>\n      <th>position</th>\n      <th>scored points</th>\n      <th>rebounds</th>\n      <th>assists</th>\n      <th>total</th>\n    </tr>\n  </thead>\n  <tbody>\n    <tr>\n      <th>0</th>\n      <td>1</td>\n      <td>abdulrazak</td>\n      <td>4</td>\n      <td>A</td>\n      <td>G</td>\n      <td>10</td>\n      <td>2</td>\n      <td>7</td>\n      <td></td>\n    </tr>\n    <tr>\n      <th>1</th>\n      <td>2</td>\n      <td>abdulrahman</td>\n      <td>8</td>\n      <td>A</td>\n      <td>F</td>\n      <td>0</td>\n      <td>10</td>\n      <td>0</td>\n      <td></td>\n    </tr>\n    <tr>\n      <th>2</th>\n      <td>3</td>\n      <td>abdulraqeeb</td>\n      <td>15</td>\n      <td>A</td>\n      <td>C</td>\n      <td>15</td>\n      <td>10</td>\n      <td>4</td>\n      <td></td>\n    </tr>\n    <tr>\n      <th>3</th>\n      <td>4</td>\n      <td>mohammed</td>\n      <td>16</td>\n      <td>B</td>\n      <td>G</td>\n      <td>20</td>\n      <td>0</td>\n      <td>0</td>\n      <td></td>\n    </tr>\n    <tr>\n      <th>4</th>\n      <td>5</td>\n      <td>feras</td>\n      <td>23</td>\n      <td>B</td>\n      <td>F</td>\n      <td>4</td>\n      <td>7</td>\n      <td>7</td>\n      <td></td>\n    </tr>\n  </tbody>\n</table>\n</div>"
     },
     "metadata": {}
    },
    {
     "output_type": "display_data",
     "data": {
      "text/plain": "   name     nickname  number team position  goals made  goals received\n0     1   abdulrazak       4    A        G           0              20\n1     2  abdulrahman       8    A        F          15              20\n2     3  abdulraqeeb      15    A        F          10              20\n3     4     mohammed      16    B        G           1              25\n4     5        feras      23    B        F          12              25",
      "text/html": "<div>\n<style scoped>\n    .dataframe tbody tr th:only-of-type {\n        vertical-align: middle;\n    }\n\n    .dataframe tbody tr th {\n        vertical-align: top;\n    }\n\n    .dataframe thead th {\n        text-align: right;\n    }\n</style>\n<table border=\"1\" class=\"dataframe\">\n  <thead>\n    <tr style=\"text-align: right;\">\n      <th></th>\n      <th>name</th>\n      <th>nickname</th>\n      <th>number</th>\n      <th>team</th>\n      <th>position</th>\n      <th>goals made</th>\n      <th>goals received</th>\n    </tr>\n  </thead>\n  <tbody>\n    <tr>\n      <th>0</th>\n      <td>1</td>\n      <td>abdulrazak</td>\n      <td>4</td>\n      <td>A</td>\n      <td>G</td>\n      <td>0</td>\n      <td>20</td>\n    </tr>\n    <tr>\n      <th>1</th>\n      <td>2</td>\n      <td>abdulrahman</td>\n      <td>8</td>\n      <td>A</td>\n      <td>F</td>\n      <td>15</td>\n      <td>20</td>\n    </tr>\n    <tr>\n      <th>2</th>\n      <td>3</td>\n      <td>abdulraqeeb</td>\n      <td>15</td>\n      <td>A</td>\n      <td>F</td>\n      <td>10</td>\n      <td>20</td>\n    </tr>\n    <tr>\n      <th>3</th>\n      <td>4</td>\n      <td>mohammed</td>\n      <td>16</td>\n      <td>B</td>\n      <td>G</td>\n      <td>1</td>\n      <td>25</td>\n    </tr>\n    <tr>\n      <th>4</th>\n      <td>5</td>\n      <td>feras</td>\n      <td>23</td>\n      <td>B</td>\n      <td>F</td>\n      <td>12</td>\n      <td>25</td>\n    </tr>\n  </tbody>\n</table>\n</div>"
     },
     "metadata": {}
    }
   ],
   "source": [
    "#loading first five recoreds for basketball teams\n",
    "display(basket.head())\n",
    "#loading first five recoreds for handball teams\n",
    "display(hand.head())"
   ]
  },
  {
   "cell_type": "code",
   "execution_count": 134,
   "metadata": {},
   "outputs": [
    {
     "output_type": "stream",
     "name": "stderr",
     "text": [
      "<ipython-input-134-d4a34bd246ff>:9: SettingWithCopyWarning: \nA value is trying to be set on a copy of a slice from a DataFrame.\nTry using .loc[row_indexer,col_indexer] = value instead\n\nSee the caveats in the documentation: https://pandas.pydata.org/pandas-docs/stable/user_guide/indexing.html#returning-a-view-versus-a-copy\n  guardPlayer['rating points'] = guardPlayer['scored points'].values*2 + guardPlayer['rebounds'].values*3 + guardPlayer['assists'].values*1\n<ipython-input-134-d4a34bd246ff>:13: SettingWithCopyWarning: \nA value is trying to be set on a copy of a slice from a DataFrame.\nTry using .loc[row_indexer,col_indexer] = value instead\n\nSee the caveats in the documentation: https://pandas.pydata.org/pandas-docs/stable/user_guide/indexing.html#returning-a-view-versus-a-copy\n  forwardPlayer['rating points'] = forwardPlayer['scored points'].values*2 + forwardPlayer['rebounds'].values*2 + forwardPlayer['assists'].values*2\n<ipython-input-134-d4a34bd246ff>:17: SettingWithCopyWarning: \nA value is trying to be set on a copy of a slice from a DataFrame.\nTry using .loc[row_indexer,col_indexer] = value instead\n\nSee the caveats in the documentation: https://pandas.pydata.org/pandas-docs/stable/user_guide/indexing.html#returning-a-view-versus-a-copy\n  centerPlayer['rating points'] = centerPlayer['scored points'].values*2 + centerPlayer['rebounds'].values*1 + centerPlayer['assists'].values*3\n"
     ]
    }
   ],
   "source": [
    "'''\n",
    "basketball equations we will use: guards(n*2 + n*3 + n*1),forward(n*2 + n*2 + n*2),center(n*2 + n*1 + n*3),\n",
    "and n = [scored point, rebounds, assists]\n",
    "'''\n",
    "#BASKETBALL\n",
    "#for extracting and implementing the equations we should first .loc the needed colmuns,\n",
    "#first lets implement the equation for goalkeepers\n",
    "guardPlayer = basket.loc[basket['position'] == 'G']\n",
    "guardPlayer['rating points'] = guardPlayer['scored points'].values*2 + guardPlayer['rebounds'].values*3 + guardPlayer['assists'].values*1\n",
    "\n",
    "#second lets implement the equation for forwardplayers\n",
    "forwardPlayer = basket.loc[basket['position'] == 'F']\n",
    "forwardPlayer['rating points'] = forwardPlayer['scored points'].values*2 + forwardPlayer['rebounds'].values*2 + forwardPlayer['assists'].values*2\n",
    "\n",
    "#last lets implement the equation for centerplayers\n",
    "centerPlayer = basket.loc[basket['position'] == 'C']\n",
    "centerPlayer['rating points'] = centerPlayer['scored points'].values*2 + centerPlayer['rebounds'].values*1 + centerPlayer['assists'].values*3"
   ]
  },
  {
   "cell_type": "code",
   "execution_count": 141,
   "metadata": {},
   "outputs": [
    {
     "output_type": "stream",
     "name": "stderr",
     "text": [
      "<ipython-input-141-383fb0e5c171>:8: SettingWithCopyWarning: \nA value is trying to be set on a copy of a slice from a DataFrame.\nTry using .loc[row_indexer,col_indexer] = value instead\n\nSee the caveats in the documentation: https://pandas.pydata.org/pandas-docs/stable/user_guide/indexing.html#returning-a-view-versus-a-copy\n  goalKeeper['rating points'] = 50 + goalKeeper['goals made'].values*5 - goalKeeper['goals received'].values*2\n<ipython-input-141-383fb0e5c171>:12: SettingWithCopyWarning: \nA value is trying to be set on a copy of a slice from a DataFrame.\nTry using .loc[row_indexer,col_indexer] = value instead\n\nSee the caveats in the documentation: https://pandas.pydata.org/pandas-docs/stable/user_guide/indexing.html#returning-a-view-versus-a-copy\n  fieldPlayer['rating points'] = 20 + fieldPlayer['goals made'].values*1 - fieldPlayer['goals received'].values*1\n"
     ]
    }
   ],
   "source": [
    "'''\n",
    "handball equations we will use: goal keeper(50 + n*5 - n*2,field player(20 + n*1 - n*1), n = [goals made, goals recived]\n",
    "'''\n",
    "#HANDBALL\n",
    "#for extracting and implementing the equations we should first .loc the needed colmuns,\n",
    "#first lets implement the equation for goalkeepers\n",
    "goalKeeper = hand.loc[hand['position'] == 'G']\n",
    "goalKeeper['rating points'] = 50 + goalKeeper['goals made'].values*5 - goalKeeper['goals received'].values*2\n",
    "\n",
    "#second lets implement the equation for forwardplayers\n",
    "fieldPlayer = hand.loc[hand['position'] == 'F']\n",
    "fieldPlayer['rating points'] = 20 + fieldPlayer['goals made'].values*1 - fieldPlayer['goals received'].values*1"
   ]
  },
  {
   "cell_type": "code",
   "execution_count": 142,
   "metadata": {},
   "outputs": [
    {
     "output_type": "display_data",
     "data": {
      "text/plain": "   name    nickname  number team position  scored points  rebounds  assists  \\\n0     1  abdulrazak       4    A        G             10         2        7   \n3     4    mohammed      16    B        G             20         0        0   \n\n  total  rating points  \n0                   33  \n3                   40  ",
      "text/html": "<div>\n<style scoped>\n    .dataframe tbody tr th:only-of-type {\n        vertical-align: middle;\n    }\n\n    .dataframe tbody tr th {\n        vertical-align: top;\n    }\n\n    .dataframe thead th {\n        text-align: right;\n    }\n</style>\n<table border=\"1\" class=\"dataframe\">\n  <thead>\n    <tr style=\"text-align: right;\">\n      <th></th>\n      <th>name</th>\n      <th>nickname</th>\n      <th>number</th>\n      <th>team</th>\n      <th>position</th>\n      <th>scored points</th>\n      <th>rebounds</th>\n      <th>assists</th>\n      <th>total</th>\n      <th>rating points</th>\n    </tr>\n  </thead>\n  <tbody>\n    <tr>\n      <th>0</th>\n      <td>1</td>\n      <td>abdulrazak</td>\n      <td>4</td>\n      <td>A</td>\n      <td>G</td>\n      <td>10</td>\n      <td>2</td>\n      <td>7</td>\n      <td></td>\n      <td>33</td>\n    </tr>\n    <tr>\n      <th>3</th>\n      <td>4</td>\n      <td>mohammed</td>\n      <td>16</td>\n      <td>B</td>\n      <td>G</td>\n      <td>20</td>\n      <td>0</td>\n      <td>0</td>\n      <td></td>\n      <td>40</td>\n    </tr>\n  </tbody>\n</table>\n</div>"
     },
     "metadata": {}
    },
    {
     "output_type": "display_data",
     "data": {
      "text/plain": "   name     nickname  number team position  scored points  rebounds  assists  \\\n1     2  abdulrahman       8    A        F              0        10        0   \n4     5        feras      23    B        F              4         7        7   \n\n  total  rating points  \n1                   20  \n4                   36  ",
      "text/html": "<div>\n<style scoped>\n    .dataframe tbody tr th:only-of-type {\n        vertical-align: middle;\n    }\n\n    .dataframe tbody tr th {\n        vertical-align: top;\n    }\n\n    .dataframe thead th {\n        text-align: right;\n    }\n</style>\n<table border=\"1\" class=\"dataframe\">\n  <thead>\n    <tr style=\"text-align: right;\">\n      <th></th>\n      <th>name</th>\n      <th>nickname</th>\n      <th>number</th>\n      <th>team</th>\n      <th>position</th>\n      <th>scored points</th>\n      <th>rebounds</th>\n      <th>assists</th>\n      <th>total</th>\n      <th>rating points</th>\n    </tr>\n  </thead>\n  <tbody>\n    <tr>\n      <th>1</th>\n      <td>2</td>\n      <td>abdulrahman</td>\n      <td>8</td>\n      <td>A</td>\n      <td>F</td>\n      <td>0</td>\n      <td>10</td>\n      <td>0</td>\n      <td></td>\n      <td>20</td>\n    </tr>\n    <tr>\n      <th>4</th>\n      <td>5</td>\n      <td>feras</td>\n      <td>23</td>\n      <td>B</td>\n      <td>F</td>\n      <td>4</td>\n      <td>7</td>\n      <td>7</td>\n      <td></td>\n      <td>36</td>\n    </tr>\n  </tbody>\n</table>\n</div>"
     },
     "metadata": {}
    },
    {
     "output_type": "display_data",
     "data": {
      "text/plain": "   name     nickname  number team position  scored points  rebounds  assists  \\\n2     3  abdulraqeeb      15    A        C             15        10        4   \n5     6        tymor      42    B        C              8        10        0   \n\n  total  rating points  \n2                   52  \n5                   26  ",
      "text/html": "<div>\n<style scoped>\n    .dataframe tbody tr th:only-of-type {\n        vertical-align: middle;\n    }\n\n    .dataframe tbody tr th {\n        vertical-align: top;\n    }\n\n    .dataframe thead th {\n        text-align: right;\n    }\n</style>\n<table border=\"1\" class=\"dataframe\">\n  <thead>\n    <tr style=\"text-align: right;\">\n      <th></th>\n      <th>name</th>\n      <th>nickname</th>\n      <th>number</th>\n      <th>team</th>\n      <th>position</th>\n      <th>scored points</th>\n      <th>rebounds</th>\n      <th>assists</th>\n      <th>total</th>\n      <th>rating points</th>\n    </tr>\n  </thead>\n  <tbody>\n    <tr>\n      <th>2</th>\n      <td>3</td>\n      <td>abdulraqeeb</td>\n      <td>15</td>\n      <td>A</td>\n      <td>C</td>\n      <td>15</td>\n      <td>10</td>\n      <td>4</td>\n      <td></td>\n      <td>52</td>\n    </tr>\n    <tr>\n      <th>5</th>\n      <td>6</td>\n      <td>tymor</td>\n      <td>42</td>\n      <td>B</td>\n      <td>C</td>\n      <td>8</td>\n      <td>10</td>\n      <td>0</td>\n      <td></td>\n      <td>26</td>\n    </tr>\n  </tbody>\n</table>\n</div>"
     },
     "metadata": {}
    }
   ],
   "source": [
    "#lets see the results for goalKeeper, fieldPlayer\n",
    "display(guardPlayer,forwardPlayer,centerPlayer)"
   ]
  },
  {
   "cell_type": "code",
   "execution_count": 143,
   "metadata": {},
   "outputs": [
    {
     "output_type": "display_data",
     "data": {
      "text/plain": "   name    nickname  number team position  goals made  goals received  \\\n0     1  abdulrazak       4    A        G           0              20   \n3     4    mohammed      16    B        G           1              25   \n\n   rating points  \n0             10  \n3              5  ",
      "text/html": "<div>\n<style scoped>\n    .dataframe tbody tr th:only-of-type {\n        vertical-align: middle;\n    }\n\n    .dataframe tbody tr th {\n        vertical-align: top;\n    }\n\n    .dataframe thead th {\n        text-align: right;\n    }\n</style>\n<table border=\"1\" class=\"dataframe\">\n  <thead>\n    <tr style=\"text-align: right;\">\n      <th></th>\n      <th>name</th>\n      <th>nickname</th>\n      <th>number</th>\n      <th>team</th>\n      <th>position</th>\n      <th>goals made</th>\n      <th>goals received</th>\n      <th>rating points</th>\n    </tr>\n  </thead>\n  <tbody>\n    <tr>\n      <th>0</th>\n      <td>1</td>\n      <td>abdulrazak</td>\n      <td>4</td>\n      <td>A</td>\n      <td>G</td>\n      <td>0</td>\n      <td>20</td>\n      <td>10</td>\n    </tr>\n    <tr>\n      <th>3</th>\n      <td>4</td>\n      <td>mohammed</td>\n      <td>16</td>\n      <td>B</td>\n      <td>G</td>\n      <td>1</td>\n      <td>25</td>\n      <td>5</td>\n    </tr>\n  </tbody>\n</table>\n</div>"
     },
     "metadata": {}
    },
    {
     "output_type": "display_data",
     "data": {
      "text/plain": "   name     nickname  number team position  goals made  goals received  \\\n1     2  abdulrahman       8    A        F          15              20   \n2     3  abdulraqeeb      15    A        F          10              20   \n4     5        feras      23    B        F          12              25   \n5     6        tymor      42    B        F           8              25   \n\n   rating points  \n1             15  \n2             10  \n4              7  \n5              3  ",
      "text/html": "<div>\n<style scoped>\n    .dataframe tbody tr th:only-of-type {\n        vertical-align: middle;\n    }\n\n    .dataframe tbody tr th {\n        vertical-align: top;\n    }\n\n    .dataframe thead th {\n        text-align: right;\n    }\n</style>\n<table border=\"1\" class=\"dataframe\">\n  <thead>\n    <tr style=\"text-align: right;\">\n      <th></th>\n      <th>name</th>\n      <th>nickname</th>\n      <th>number</th>\n      <th>team</th>\n      <th>position</th>\n      <th>goals made</th>\n      <th>goals received</th>\n      <th>rating points</th>\n    </tr>\n  </thead>\n  <tbody>\n    <tr>\n      <th>1</th>\n      <td>2</td>\n      <td>abdulrahman</td>\n      <td>8</td>\n      <td>A</td>\n      <td>F</td>\n      <td>15</td>\n      <td>20</td>\n      <td>15</td>\n    </tr>\n    <tr>\n      <th>2</th>\n      <td>3</td>\n      <td>abdulraqeeb</td>\n      <td>15</td>\n      <td>A</td>\n      <td>F</td>\n      <td>10</td>\n      <td>20</td>\n      <td>10</td>\n    </tr>\n    <tr>\n      <th>4</th>\n      <td>5</td>\n      <td>feras</td>\n      <td>23</td>\n      <td>B</td>\n      <td>F</td>\n      <td>12</td>\n      <td>25</td>\n      <td>7</td>\n    </tr>\n    <tr>\n      <th>5</th>\n      <td>6</td>\n      <td>tymor</td>\n      <td>42</td>\n      <td>B</td>\n      <td>F</td>\n      <td>8</td>\n      <td>25</td>\n      <td>3</td>\n    </tr>\n  </tbody>\n</table>\n</div>"
     },
     "metadata": {}
    }
   ],
   "source": [
    "#lets see the results for goalkeepers, forwardsplayers and centerplayers\n",
    "display(goalKeeper,fieldPlayer)"
   ]
  },
  {
   "cell_type": "code",
   "execution_count": 154,
   "metadata": {},
   "outputs": [
    {
     "output_type": "display_data",
     "data": {
      "text/plain": "   name     nickname  number team position  scored points  rebounds  assists  \\\n0     1   abdulrazak       4    A        G             10         2        7   \n3     4     mohammed      16    B        G             20         0        0   \n1     2  abdulrahman       8    A        F              0        10        0   \n4     5        feras      23    B        F              4         7        7   \n2     3  abdulraqeeb      15    A        C             15        10        4   \n\n  total  rating points  \n0                   33  \n3                   40  \n1                   20  \n4                   36  \n2                   52  ",
      "text/html": "<div>\n<style scoped>\n    .dataframe tbody tr th:only-of-type {\n        vertical-align: middle;\n    }\n\n    .dataframe tbody tr th {\n        vertical-align: top;\n    }\n\n    .dataframe thead th {\n        text-align: right;\n    }\n</style>\n<table border=\"1\" class=\"dataframe\">\n  <thead>\n    <tr style=\"text-align: right;\">\n      <th></th>\n      <th>name</th>\n      <th>nickname</th>\n      <th>number</th>\n      <th>team</th>\n      <th>position</th>\n      <th>scored points</th>\n      <th>rebounds</th>\n      <th>assists</th>\n      <th>total</th>\n      <th>rating points</th>\n    </tr>\n  </thead>\n  <tbody>\n    <tr>\n      <th>0</th>\n      <td>1</td>\n      <td>abdulrazak</td>\n      <td>4</td>\n      <td>A</td>\n      <td>G</td>\n      <td>10</td>\n      <td>2</td>\n      <td>7</td>\n      <td></td>\n      <td>33</td>\n    </tr>\n    <tr>\n      <th>3</th>\n      <td>4</td>\n      <td>mohammed</td>\n      <td>16</td>\n      <td>B</td>\n      <td>G</td>\n      <td>20</td>\n      <td>0</td>\n      <td>0</td>\n      <td></td>\n      <td>40</td>\n    </tr>\n    <tr>\n      <th>1</th>\n      <td>2</td>\n      <td>abdulrahman</td>\n      <td>8</td>\n      <td>A</td>\n      <td>F</td>\n      <td>0</td>\n      <td>10</td>\n      <td>0</td>\n      <td></td>\n      <td>20</td>\n    </tr>\n    <tr>\n      <th>4</th>\n      <td>5</td>\n      <td>feras</td>\n      <td>23</td>\n      <td>B</td>\n      <td>F</td>\n      <td>4</td>\n      <td>7</td>\n      <td>7</td>\n      <td></td>\n      <td>36</td>\n    </tr>\n    <tr>\n      <th>2</th>\n      <td>3</td>\n      <td>abdulraqeeb</td>\n      <td>15</td>\n      <td>A</td>\n      <td>C</td>\n      <td>15</td>\n      <td>10</td>\n      <td>4</td>\n      <td></td>\n      <td>52</td>\n    </tr>\n  </tbody>\n</table>\n</div>"
     },
     "metadata": {}
    },
    {
     "output_type": "display_data",
     "data": {
      "text/plain": "   name     nickname  number team position  goals made  goals received  \\\n0     1   abdulrazak       4    A        G           0              20   \n3     4     mohammed      16    B        G           1              25   \n1     2  abdulrahman       8    A        F          15              20   \n2     3  abdulraqeeb      15    A        F          10              20   \n4     5        feras      23    B        F          12              25   \n\n   rating points  \n0             10  \n3              5  \n1             15  \n2             10  \n4              7  ",
      "text/html": "<div>\n<style scoped>\n    .dataframe tbody tr th:only-of-type {\n        vertical-align: middle;\n    }\n\n    .dataframe tbody tr th {\n        vertical-align: top;\n    }\n\n    .dataframe thead th {\n        text-align: right;\n    }\n</style>\n<table border=\"1\" class=\"dataframe\">\n  <thead>\n    <tr style=\"text-align: right;\">\n      <th></th>\n      <th>name</th>\n      <th>nickname</th>\n      <th>number</th>\n      <th>team</th>\n      <th>position</th>\n      <th>goals made</th>\n      <th>goals received</th>\n      <th>rating points</th>\n    </tr>\n  </thead>\n  <tbody>\n    <tr>\n      <th>0</th>\n      <td>1</td>\n      <td>abdulrazak</td>\n      <td>4</td>\n      <td>A</td>\n      <td>G</td>\n      <td>0</td>\n      <td>20</td>\n      <td>10</td>\n    </tr>\n    <tr>\n      <th>3</th>\n      <td>4</td>\n      <td>mohammed</td>\n      <td>16</td>\n      <td>B</td>\n      <td>G</td>\n      <td>1</td>\n      <td>25</td>\n      <td>5</td>\n    </tr>\n    <tr>\n      <th>1</th>\n      <td>2</td>\n      <td>abdulrahman</td>\n      <td>8</td>\n      <td>A</td>\n      <td>F</td>\n      <td>15</td>\n      <td>20</td>\n      <td>15</td>\n    </tr>\n    <tr>\n      <th>2</th>\n      <td>3</td>\n      <td>abdulraqeeb</td>\n      <td>15</td>\n      <td>A</td>\n      <td>F</td>\n      <td>10</td>\n      <td>20</td>\n      <td>10</td>\n    </tr>\n    <tr>\n      <th>4</th>\n      <td>5</td>\n      <td>feras</td>\n      <td>23</td>\n      <td>B</td>\n      <td>F</td>\n      <td>12</td>\n      <td>25</td>\n      <td>7</td>\n    </tr>\n  </tbody>\n</table>\n</div>"
     },
     "metadata": {}
    }
   ],
   "source": [
    "#lets merge all datas tigether\n",
    "basketData = pd.concat([guardPlayer,forwardPlayer,centerPlayer])\n",
    "handData   = pd.concat([goalKeeper,fieldPlayer])\n",
    "#lets see the dataset\n",
    "display(basketData.head())\n",
    "display(handData.head())"
   ]
  },
  {
   "cell_type": "code",
   "execution_count": 155,
   "metadata": {},
   "outputs": [
    {
     "output_type": "stream",
     "name": "stdout",
     "text": [
      "Team A\n"
     ]
    },
    {
     "output_type": "display_data",
     "data": {
      "text/plain": "   name     nickname  number team position  scored points  rebounds  assists  \\\n0     1   abdulrazak       4    A        G             10         2        7   \n1     2  abdulrahman       8    A        F              0        10        0   \n2     3  abdulraqeeb      15    A        C             15        10        4   \n\n  total  rating points  \n0                   33  \n1                   20  \n2                   52  ",
      "text/html": "<div>\n<style scoped>\n    .dataframe tbody tr th:only-of-type {\n        vertical-align: middle;\n    }\n\n    .dataframe tbody tr th {\n        vertical-align: top;\n    }\n\n    .dataframe thead th {\n        text-align: right;\n    }\n</style>\n<table border=\"1\" class=\"dataframe\">\n  <thead>\n    <tr style=\"text-align: right;\">\n      <th></th>\n      <th>name</th>\n      <th>nickname</th>\n      <th>number</th>\n      <th>team</th>\n      <th>position</th>\n      <th>scored points</th>\n      <th>rebounds</th>\n      <th>assists</th>\n      <th>total</th>\n      <th>rating points</th>\n    </tr>\n  </thead>\n  <tbody>\n    <tr>\n      <th>0</th>\n      <td>1</td>\n      <td>abdulrazak</td>\n      <td>4</td>\n      <td>A</td>\n      <td>G</td>\n      <td>10</td>\n      <td>2</td>\n      <td>7</td>\n      <td></td>\n      <td>33</td>\n    </tr>\n    <tr>\n      <th>1</th>\n      <td>2</td>\n      <td>abdulrahman</td>\n      <td>8</td>\n      <td>A</td>\n      <td>F</td>\n      <td>0</td>\n      <td>10</td>\n      <td>0</td>\n      <td></td>\n      <td>20</td>\n    </tr>\n    <tr>\n      <th>2</th>\n      <td>3</td>\n      <td>abdulraqeeb</td>\n      <td>15</td>\n      <td>A</td>\n      <td>C</td>\n      <td>15</td>\n      <td>10</td>\n      <td>4</td>\n      <td></td>\n      <td>52</td>\n    </tr>\n  </tbody>\n</table>\n</div>"
     },
     "metadata": {}
    },
    {
     "output_type": "stream",
     "name": "stdout",
     "text": [
      "\n\nTeam B\n"
     ]
    },
    {
     "output_type": "display_data",
     "data": {
      "text/plain": "   name  nickname  number team position  scored points  rebounds  assists  \\\n3     4  mohammed      16    B        G             20         0        0   \n4     5     feras      23    B        F              4         7        7   \n5     6     tymor      42    B        C              8        10        0   \n\n  total  rating points  \n3                   40  \n4                   36  \n5                   26  ",
      "text/html": "<div>\n<style scoped>\n    .dataframe tbody tr th:only-of-type {\n        vertical-align: middle;\n    }\n\n    .dataframe tbody tr th {\n        vertical-align: top;\n    }\n\n    .dataframe thead th {\n        text-align: right;\n    }\n</style>\n<table border=\"1\" class=\"dataframe\">\n  <thead>\n    <tr style=\"text-align: right;\">\n      <th></th>\n      <th>name</th>\n      <th>nickname</th>\n      <th>number</th>\n      <th>team</th>\n      <th>position</th>\n      <th>scored points</th>\n      <th>rebounds</th>\n      <th>assists</th>\n      <th>total</th>\n      <th>rating points</th>\n    </tr>\n  </thead>\n  <tbody>\n    <tr>\n      <th>3</th>\n      <td>4</td>\n      <td>mohammed</td>\n      <td>16</td>\n      <td>B</td>\n      <td>G</td>\n      <td>20</td>\n      <td>0</td>\n      <td>0</td>\n      <td></td>\n      <td>40</td>\n    </tr>\n    <tr>\n      <th>4</th>\n      <td>5</td>\n      <td>feras</td>\n      <td>23</td>\n      <td>B</td>\n      <td>F</td>\n      <td>4</td>\n      <td>7</td>\n      <td>7</td>\n      <td></td>\n      <td>36</td>\n    </tr>\n    <tr>\n      <th>5</th>\n      <td>6</td>\n      <td>tymor</td>\n      <td>42</td>\n      <td>B</td>\n      <td>C</td>\n      <td>8</td>\n      <td>10</td>\n      <td>0</td>\n      <td></td>\n      <td>26</td>\n    </tr>\n  </tbody>\n</table>\n</div>"
     },
     "metadata": {}
    }
   ],
   "source": [
    "#now lets see each of basket teams alone\n",
    "basketTeam1 = basketData.loc[basketData['team'] == 'A']\n",
    "print('Team A')\n",
    "display(basketTeam1)\n",
    "print('\\n')\n",
    "basketTeam2 = basketData.loc[basketData['team'] == 'B']\n",
    "print('Team B')\n",
    "display(basketTeam2)"
   ]
  },
  {
   "cell_type": "code",
   "execution_count": 156,
   "metadata": {},
   "outputs": [
    {
     "output_type": "stream",
     "name": "stdout",
     "text": [
      "Team A\n"
     ]
    },
    {
     "output_type": "display_data",
     "data": {
      "text/plain": "   name     nickname  number team position  goals made  goals received  \\\n0     1   abdulrazak       4    A        G           0              20   \n1     2  abdulrahman       8    A        F          15              20   \n2     3  abdulraqeeb      15    A        F          10              20   \n\n   rating points  \n0             10  \n1             15  \n2             10  ",
      "text/html": "<div>\n<style scoped>\n    .dataframe tbody tr th:only-of-type {\n        vertical-align: middle;\n    }\n\n    .dataframe tbody tr th {\n        vertical-align: top;\n    }\n\n    .dataframe thead th {\n        text-align: right;\n    }\n</style>\n<table border=\"1\" class=\"dataframe\">\n  <thead>\n    <tr style=\"text-align: right;\">\n      <th></th>\n      <th>name</th>\n      <th>nickname</th>\n      <th>number</th>\n      <th>team</th>\n      <th>position</th>\n      <th>goals made</th>\n      <th>goals received</th>\n      <th>rating points</th>\n    </tr>\n  </thead>\n  <tbody>\n    <tr>\n      <th>0</th>\n      <td>1</td>\n      <td>abdulrazak</td>\n      <td>4</td>\n      <td>A</td>\n      <td>G</td>\n      <td>0</td>\n      <td>20</td>\n      <td>10</td>\n    </tr>\n    <tr>\n      <th>1</th>\n      <td>2</td>\n      <td>abdulrahman</td>\n      <td>8</td>\n      <td>A</td>\n      <td>F</td>\n      <td>15</td>\n      <td>20</td>\n      <td>15</td>\n    </tr>\n    <tr>\n      <th>2</th>\n      <td>3</td>\n      <td>abdulraqeeb</td>\n      <td>15</td>\n      <td>A</td>\n      <td>F</td>\n      <td>10</td>\n      <td>20</td>\n      <td>10</td>\n    </tr>\n  </tbody>\n</table>\n</div>"
     },
     "metadata": {}
    },
    {
     "output_type": "stream",
     "name": "stdout",
     "text": [
      "\n\nTeam B\n"
     ]
    },
    {
     "output_type": "display_data",
     "data": {
      "text/plain": "   name  nickname  number team position  goals made  goals received  \\\n3     4  mohammed      16    B        G           1              25   \n4     5     feras      23    B        F          12              25   \n5     6     tymor      42    B        F           8              25   \n\n   rating points  \n3              5  \n4              7  \n5              3  ",
      "text/html": "<div>\n<style scoped>\n    .dataframe tbody tr th:only-of-type {\n        vertical-align: middle;\n    }\n\n    .dataframe tbody tr th {\n        vertical-align: top;\n    }\n\n    .dataframe thead th {\n        text-align: right;\n    }\n</style>\n<table border=\"1\" class=\"dataframe\">\n  <thead>\n    <tr style=\"text-align: right;\">\n      <th></th>\n      <th>name</th>\n      <th>nickname</th>\n      <th>number</th>\n      <th>team</th>\n      <th>position</th>\n      <th>goals made</th>\n      <th>goals received</th>\n      <th>rating points</th>\n    </tr>\n  </thead>\n  <tbody>\n    <tr>\n      <th>3</th>\n      <td>4</td>\n      <td>mohammed</td>\n      <td>16</td>\n      <td>B</td>\n      <td>G</td>\n      <td>1</td>\n      <td>25</td>\n      <td>5</td>\n    </tr>\n    <tr>\n      <th>4</th>\n      <td>5</td>\n      <td>feras</td>\n      <td>23</td>\n      <td>B</td>\n      <td>F</td>\n      <td>12</td>\n      <td>25</td>\n      <td>7</td>\n    </tr>\n    <tr>\n      <th>5</th>\n      <td>6</td>\n      <td>tymor</td>\n      <td>42</td>\n      <td>B</td>\n      <td>F</td>\n      <td>8</td>\n      <td>25</td>\n      <td>3</td>\n    </tr>\n  </tbody>\n</table>\n</div>"
     },
     "metadata": {}
    }
   ],
   "source": [
    "#now lets see each of basket teams alone\n",
    "handTeam1 = handData.loc[handData['team'] == 'A']\n",
    "print('Team A')\n",
    "display(handTeam1)\n",
    "print('\\n')\n",
    "handTeam2 = handData.loc[handData['team'] == 'B']\n",
    "print('Team B')\n",
    "display(handTeam2)"
   ]
  },
  {
   "cell_type": "code",
   "execution_count": 157,
   "metadata": {},
   "outputs": [
    {
     "output_type": "stream",
     "name": "stderr",
     "text": [
      "<ipython-input-157-178196044a20>:2: SettingWithCopyWarning: \nA value is trying to be set on a copy of a slice from a DataFrame.\nTry using .loc[row_indexer,col_indexer] = value instead\n\nSee the caveats in the documentation: https://pandas.pydata.org/pandas-docs/stable/user_guide/indexing.html#returning-a-view-versus-a-copy\n  basketTeam1['total points'] = basketTeam1['scored points'].sum()\n<ipython-input-157-178196044a20>:3: SettingWithCopyWarning: \nA value is trying to be set on a copy of a slice from a DataFrame.\nTry using .loc[row_indexer,col_indexer] = value instead\n\nSee the caveats in the documentation: https://pandas.pydata.org/pandas-docs/stable/user_guide/indexing.html#returning-a-view-versus-a-copy\n  basketTeam2['total points'] = basketTeam2['scored points'].sum()\n"
     ]
    },
    {
     "output_type": "display_data",
     "data": {
      "text/plain": "   name     nickname  number team position  scored points  rebounds  assists  \\\n0     1   abdulrazak       4    A        G             10         2        7   \n1     2  abdulrahman       8    A        F              0        10        0   \n2     3  abdulraqeeb      15    A        C             15        10        4   \n\n  total  rating points  total points  \n0                   33            25  \n1                   20            25  \n2                   52            25  ",
      "text/html": "<div>\n<style scoped>\n    .dataframe tbody tr th:only-of-type {\n        vertical-align: middle;\n    }\n\n    .dataframe tbody tr th {\n        vertical-align: top;\n    }\n\n    .dataframe thead th {\n        text-align: right;\n    }\n</style>\n<table border=\"1\" class=\"dataframe\">\n  <thead>\n    <tr style=\"text-align: right;\">\n      <th></th>\n      <th>name</th>\n      <th>nickname</th>\n      <th>number</th>\n      <th>team</th>\n      <th>position</th>\n      <th>scored points</th>\n      <th>rebounds</th>\n      <th>assists</th>\n      <th>total</th>\n      <th>rating points</th>\n      <th>total points</th>\n    </tr>\n  </thead>\n  <tbody>\n    <tr>\n      <th>0</th>\n      <td>1</td>\n      <td>abdulrazak</td>\n      <td>4</td>\n      <td>A</td>\n      <td>G</td>\n      <td>10</td>\n      <td>2</td>\n      <td>7</td>\n      <td></td>\n      <td>33</td>\n      <td>25</td>\n    </tr>\n    <tr>\n      <th>1</th>\n      <td>2</td>\n      <td>abdulrahman</td>\n      <td>8</td>\n      <td>A</td>\n      <td>F</td>\n      <td>0</td>\n      <td>10</td>\n      <td>0</td>\n      <td></td>\n      <td>20</td>\n      <td>25</td>\n    </tr>\n    <tr>\n      <th>2</th>\n      <td>3</td>\n      <td>abdulraqeeb</td>\n      <td>15</td>\n      <td>A</td>\n      <td>C</td>\n      <td>15</td>\n      <td>10</td>\n      <td>4</td>\n      <td></td>\n      <td>52</td>\n      <td>25</td>\n    </tr>\n  </tbody>\n</table>\n</div>"
     },
     "metadata": {}
    },
    {
     "output_type": "display_data",
     "data": {
      "text/plain": "   name  nickname  number team position  scored points  rebounds  assists  \\\n3     4  mohammed      16    B        G             20         0        0   \n4     5     feras      23    B        F              4         7        7   \n5     6     tymor      42    B        C              8        10        0   \n\n  total  rating points  total points  \n3                   40            32  \n4                   36            32  \n5                   26            32  ",
      "text/html": "<div>\n<style scoped>\n    .dataframe tbody tr th:only-of-type {\n        vertical-align: middle;\n    }\n\n    .dataframe tbody tr th {\n        vertical-align: top;\n    }\n\n    .dataframe thead th {\n        text-align: right;\n    }\n</style>\n<table border=\"1\" class=\"dataframe\">\n  <thead>\n    <tr style=\"text-align: right;\">\n      <th></th>\n      <th>name</th>\n      <th>nickname</th>\n      <th>number</th>\n      <th>team</th>\n      <th>position</th>\n      <th>scored points</th>\n      <th>rebounds</th>\n      <th>assists</th>\n      <th>total</th>\n      <th>rating points</th>\n      <th>total points</th>\n    </tr>\n  </thead>\n  <tbody>\n    <tr>\n      <th>3</th>\n      <td>4</td>\n      <td>mohammed</td>\n      <td>16</td>\n      <td>B</td>\n      <td>G</td>\n      <td>20</td>\n      <td>0</td>\n      <td>0</td>\n      <td></td>\n      <td>40</td>\n      <td>32</td>\n    </tr>\n    <tr>\n      <th>4</th>\n      <td>5</td>\n      <td>feras</td>\n      <td>23</td>\n      <td>B</td>\n      <td>F</td>\n      <td>4</td>\n      <td>7</td>\n      <td>7</td>\n      <td></td>\n      <td>36</td>\n      <td>32</td>\n    </tr>\n    <tr>\n      <th>5</th>\n      <td>6</td>\n      <td>tymor</td>\n      <td>42</td>\n      <td>B</td>\n      <td>C</td>\n      <td>8</td>\n      <td>10</td>\n      <td>0</td>\n      <td></td>\n      <td>26</td>\n      <td>32</td>\n    </tr>\n  </tbody>\n</table>\n</div>"
     },
     "metadata": {}
    }
   ],
   "source": [
    "#now lets see the winner team on basketball\n",
    "basketTeam1['total points'] = basketTeam1['scored points'].sum()\n",
    "basketTeam2['total points'] = basketTeam2['scored points'].sum()\n",
    "\n",
    "display(basketTeam1)\n",
    "display(basketTeam2)"
   ]
  },
  {
   "cell_type": "code",
   "execution_count": 158,
   "metadata": {},
   "outputs": [
    {
     "output_type": "stream",
     "name": "stderr",
     "text": [
      "<ipython-input-158-a81a6221e501>:2: SettingWithCopyWarning: \nA value is trying to be set on a copy of a slice from a DataFrame.\nTry using .loc[row_indexer,col_indexer] = value instead\n\nSee the caveats in the documentation: https://pandas.pydata.org/pandas-docs/stable/user_guide/indexing.html#returning-a-view-versus-a-copy\n  handTeam1['total goals'] = handTeam1['goals made'].sum()\n<ipython-input-158-a81a6221e501>:3: SettingWithCopyWarning: \nA value is trying to be set on a copy of a slice from a DataFrame.\nTry using .loc[row_indexer,col_indexer] = value instead\n\nSee the caveats in the documentation: https://pandas.pydata.org/pandas-docs/stable/user_guide/indexing.html#returning-a-view-versus-a-copy\n  handTeam2['total goals'] = handTeam2['goals made'].sum()\n"
     ]
    },
    {
     "output_type": "display_data",
     "data": {
      "text/plain": "   name     nickname  number team position  goals made  goals received  \\\n0     1   abdulrazak       4    A        G           0              20   \n1     2  abdulrahman       8    A        F          15              20   \n2     3  abdulraqeeb      15    A        F          10              20   \n\n   rating points  total goals  \n0             10           25  \n1             15           25  \n2             10           25  ",
      "text/html": "<div>\n<style scoped>\n    .dataframe tbody tr th:only-of-type {\n        vertical-align: middle;\n    }\n\n    .dataframe tbody tr th {\n        vertical-align: top;\n    }\n\n    .dataframe thead th {\n        text-align: right;\n    }\n</style>\n<table border=\"1\" class=\"dataframe\">\n  <thead>\n    <tr style=\"text-align: right;\">\n      <th></th>\n      <th>name</th>\n      <th>nickname</th>\n      <th>number</th>\n      <th>team</th>\n      <th>position</th>\n      <th>goals made</th>\n      <th>goals received</th>\n      <th>rating points</th>\n      <th>total goals</th>\n    </tr>\n  </thead>\n  <tbody>\n    <tr>\n      <th>0</th>\n      <td>1</td>\n      <td>abdulrazak</td>\n      <td>4</td>\n      <td>A</td>\n      <td>G</td>\n      <td>0</td>\n      <td>20</td>\n      <td>10</td>\n      <td>25</td>\n    </tr>\n    <tr>\n      <th>1</th>\n      <td>2</td>\n      <td>abdulrahman</td>\n      <td>8</td>\n      <td>A</td>\n      <td>F</td>\n      <td>15</td>\n      <td>20</td>\n      <td>15</td>\n      <td>25</td>\n    </tr>\n    <tr>\n      <th>2</th>\n      <td>3</td>\n      <td>abdulraqeeb</td>\n      <td>15</td>\n      <td>A</td>\n      <td>F</td>\n      <td>10</td>\n      <td>20</td>\n      <td>10</td>\n      <td>25</td>\n    </tr>\n  </tbody>\n</table>\n</div>"
     },
     "metadata": {}
    },
    {
     "output_type": "display_data",
     "data": {
      "text/plain": "   name  nickname  number team position  goals made  goals received  \\\n3     4  mohammed      16    B        G           1              25   \n4     5     feras      23    B        F          12              25   \n5     6     tymor      42    B        F           8              25   \n\n   rating points  total goals  \n3              5           21  \n4              7           21  \n5              3           21  ",
      "text/html": "<div>\n<style scoped>\n    .dataframe tbody tr th:only-of-type {\n        vertical-align: middle;\n    }\n\n    .dataframe tbody tr th {\n        vertical-align: top;\n    }\n\n    .dataframe thead th {\n        text-align: right;\n    }\n</style>\n<table border=\"1\" class=\"dataframe\">\n  <thead>\n    <tr style=\"text-align: right;\">\n      <th></th>\n      <th>name</th>\n      <th>nickname</th>\n      <th>number</th>\n      <th>team</th>\n      <th>position</th>\n      <th>goals made</th>\n      <th>goals received</th>\n      <th>rating points</th>\n      <th>total goals</th>\n    </tr>\n  </thead>\n  <tbody>\n    <tr>\n      <th>3</th>\n      <td>4</td>\n      <td>mohammed</td>\n      <td>16</td>\n      <td>B</td>\n      <td>G</td>\n      <td>1</td>\n      <td>25</td>\n      <td>5</td>\n      <td>21</td>\n    </tr>\n    <tr>\n      <th>4</th>\n      <td>5</td>\n      <td>feras</td>\n      <td>23</td>\n      <td>B</td>\n      <td>F</td>\n      <td>12</td>\n      <td>25</td>\n      <td>7</td>\n      <td>21</td>\n    </tr>\n    <tr>\n      <th>5</th>\n      <td>6</td>\n      <td>tymor</td>\n      <td>42</td>\n      <td>B</td>\n      <td>F</td>\n      <td>8</td>\n      <td>25</td>\n      <td>3</td>\n      <td>21</td>\n    </tr>\n  </tbody>\n</table>\n</div>"
     },
     "metadata": {}
    }
   ],
   "source": [
    "#now lets see the winner team on handball\n",
    "handTeam1['total goals'] = handTeam1['goals made'].sum()\n",
    "handTeam2['total goals'] = handTeam2['goals made'].sum()\n",
    "\n",
    "display(handTeam1)\n",
    "display(handTeam2)"
   ]
  },
  {
   "cell_type": "code",
   "execution_count": 159,
   "metadata": {},
   "outputs": [
    {
     "output_type": "execute_result",
     "data": {
      "text/plain": [
       "   name     nickname  number team position  scored points  rebounds  assists  \\\n",
       "0     1   abdulrazak       4    A        G             10         2        7   \n",
       "1     2  abdulrahman       8    A        F              0        10        0   \n",
       "2     3  abdulraqeeb      15    A        C             15        10        4   \n",
       "3     4     mohammed      16    B        G             20         0        0   \n",
       "4     5        feras      23    B        F              4         7        7   \n",
       "5     6        tymor      42    B        C              8        10        0   \n",
       "\n",
       "  total  rating points  total points  \n",
       "0                   33            25  \n",
       "1                   20            25  \n",
       "2                   52            25  \n",
       "3                   40            32  \n",
       "4                   36            32  \n",
       "5                   26            32  "
      ],
      "text/html": "<div>\n<style scoped>\n    .dataframe tbody tr th:only-of-type {\n        vertical-align: middle;\n    }\n\n    .dataframe tbody tr th {\n        vertical-align: top;\n    }\n\n    .dataframe thead th {\n        text-align: right;\n    }\n</style>\n<table border=\"1\" class=\"dataframe\">\n  <thead>\n    <tr style=\"text-align: right;\">\n      <th></th>\n      <th>name</th>\n      <th>nickname</th>\n      <th>number</th>\n      <th>team</th>\n      <th>position</th>\n      <th>scored points</th>\n      <th>rebounds</th>\n      <th>assists</th>\n      <th>total</th>\n      <th>rating points</th>\n      <th>total points</th>\n    </tr>\n  </thead>\n  <tbody>\n    <tr>\n      <th>0</th>\n      <td>1</td>\n      <td>abdulrazak</td>\n      <td>4</td>\n      <td>A</td>\n      <td>G</td>\n      <td>10</td>\n      <td>2</td>\n      <td>7</td>\n      <td></td>\n      <td>33</td>\n      <td>25</td>\n    </tr>\n    <tr>\n      <th>1</th>\n      <td>2</td>\n      <td>abdulrahman</td>\n      <td>8</td>\n      <td>A</td>\n      <td>F</td>\n      <td>0</td>\n      <td>10</td>\n      <td>0</td>\n      <td></td>\n      <td>20</td>\n      <td>25</td>\n    </tr>\n    <tr>\n      <th>2</th>\n      <td>3</td>\n      <td>abdulraqeeb</td>\n      <td>15</td>\n      <td>A</td>\n      <td>C</td>\n      <td>15</td>\n      <td>10</td>\n      <td>4</td>\n      <td></td>\n      <td>52</td>\n      <td>25</td>\n    </tr>\n    <tr>\n      <th>3</th>\n      <td>4</td>\n      <td>mohammed</td>\n      <td>16</td>\n      <td>B</td>\n      <td>G</td>\n      <td>20</td>\n      <td>0</td>\n      <td>0</td>\n      <td></td>\n      <td>40</td>\n      <td>32</td>\n    </tr>\n    <tr>\n      <th>4</th>\n      <td>5</td>\n      <td>feras</td>\n      <td>23</td>\n      <td>B</td>\n      <td>F</td>\n      <td>4</td>\n      <td>7</td>\n      <td>7</td>\n      <td></td>\n      <td>36</td>\n      <td>32</td>\n    </tr>\n    <tr>\n      <th>5</th>\n      <td>6</td>\n      <td>tymor</td>\n      <td>42</td>\n      <td>B</td>\n      <td>C</td>\n      <td>8</td>\n      <td>10</td>\n      <td>0</td>\n      <td></td>\n      <td>26</td>\n      <td>32</td>\n    </tr>\n  </tbody>\n</table>\n</div>"
     },
     "metadata": {},
     "execution_count": 159
    }
   ],
   "source": [
    "#BASKETBALL\n",
    "#we saw that team B is the winner team with total 32 scored points against team A with 25 points,\n",
    "final_basket_data = pd.concat([basketTeam1,basketTeam2])\n",
    "final_basket_data"
   ]
  },
  {
   "cell_type": "code",
   "execution_count": 160,
   "metadata": {},
   "outputs": [
    {
     "output_type": "execute_result",
     "data": {
      "text/plain": [
       "   name     nickname  number team position  goals made  goals received  \\\n",
       "0     1   abdulrazak       4    A        G           0              20   \n",
       "1     2  abdulrahman       8    A        F          15              20   \n",
       "2     3  abdulraqeeb      15    A        F          10              20   \n",
       "3     4     mohammed      16    B        G           1              25   \n",
       "4     5        feras      23    B        F          12              25   \n",
       "5     6        tymor      42    B        F           8              25   \n",
       "\n",
       "   rating points  total goals  \n",
       "0             10           25  \n",
       "1             15           25  \n",
       "2             10           25  \n",
       "3              5           21  \n",
       "4              7           21  \n",
       "5              3           21  "
      ],
      "text/html": "<div>\n<style scoped>\n    .dataframe tbody tr th:only-of-type {\n        vertical-align: middle;\n    }\n\n    .dataframe tbody tr th {\n        vertical-align: top;\n    }\n\n    .dataframe thead th {\n        text-align: right;\n    }\n</style>\n<table border=\"1\" class=\"dataframe\">\n  <thead>\n    <tr style=\"text-align: right;\">\n      <th></th>\n      <th>name</th>\n      <th>nickname</th>\n      <th>number</th>\n      <th>team</th>\n      <th>position</th>\n      <th>goals made</th>\n      <th>goals received</th>\n      <th>rating points</th>\n      <th>total goals</th>\n    </tr>\n  </thead>\n  <tbody>\n    <tr>\n      <th>0</th>\n      <td>1</td>\n      <td>abdulrazak</td>\n      <td>4</td>\n      <td>A</td>\n      <td>G</td>\n      <td>0</td>\n      <td>20</td>\n      <td>10</td>\n      <td>25</td>\n    </tr>\n    <tr>\n      <th>1</th>\n      <td>2</td>\n      <td>abdulrahman</td>\n      <td>8</td>\n      <td>A</td>\n      <td>F</td>\n      <td>15</td>\n      <td>20</td>\n      <td>15</td>\n      <td>25</td>\n    </tr>\n    <tr>\n      <th>2</th>\n      <td>3</td>\n      <td>abdulraqeeb</td>\n      <td>15</td>\n      <td>A</td>\n      <td>F</td>\n      <td>10</td>\n      <td>20</td>\n      <td>10</td>\n      <td>25</td>\n    </tr>\n    <tr>\n      <th>3</th>\n      <td>4</td>\n      <td>mohammed</td>\n      <td>16</td>\n      <td>B</td>\n      <td>G</td>\n      <td>1</td>\n      <td>25</td>\n      <td>5</td>\n      <td>21</td>\n    </tr>\n    <tr>\n      <th>4</th>\n      <td>5</td>\n      <td>feras</td>\n      <td>23</td>\n      <td>B</td>\n      <td>F</td>\n      <td>12</td>\n      <td>25</td>\n      <td>7</td>\n      <td>21</td>\n    </tr>\n    <tr>\n      <th>5</th>\n      <td>6</td>\n      <td>tymor</td>\n      <td>42</td>\n      <td>B</td>\n      <td>F</td>\n      <td>8</td>\n      <td>25</td>\n      <td>3</td>\n      <td>21</td>\n    </tr>\n  </tbody>\n</table>\n</div>"
     },
     "metadata": {},
     "execution_count": 160
    }
   ],
   "source": [
    "#HANDBALL\n",
    "#we saw that team A is the winner team with total 25 scored goals against team B with 21 points,\n",
    "final_hand_data = pd.concat([handTeam1,handTeam2])\n",
    "final_hand_data"
   ]
  },
  {
   "cell_type": "code",
   "execution_count": 162,
   "metadata": {},
   "outputs": [
    {
     "output_type": "execute_result",
     "data": {
      "text/plain": [
       "   name     nickname  number team position  scored points  rebounds  assists  \\\n",
       "2     3  abdulraqeeb      15    A        C             15        10        4   \n",
       "\n",
       "  total  rating points  total points  \n",
       "2                   52            25  "
      ],
      "text/html": "<div>\n<style scoped>\n    .dataframe tbody tr th:only-of-type {\n        vertical-align: middle;\n    }\n\n    .dataframe tbody tr th {\n        vertical-align: top;\n    }\n\n    .dataframe thead th {\n        text-align: right;\n    }\n</style>\n<table border=\"1\" class=\"dataframe\">\n  <thead>\n    <tr style=\"text-align: right;\">\n      <th></th>\n      <th>name</th>\n      <th>nickname</th>\n      <th>number</th>\n      <th>team</th>\n      <th>position</th>\n      <th>scored points</th>\n      <th>rebounds</th>\n      <th>assists</th>\n      <th>total</th>\n      <th>rating points</th>\n      <th>total points</th>\n    </tr>\n  </thead>\n  <tbody>\n    <tr>\n      <th>2</th>\n      <td>3</td>\n      <td>abdulraqeeb</td>\n      <td>15</td>\n      <td>A</td>\n      <td>C</td>\n      <td>15</td>\n      <td>10</td>\n      <td>4</td>\n      <td></td>\n      <td>52</td>\n      <td>25</td>\n    </tr>\n  </tbody>\n</table>\n</div>"
     },
     "metadata": {},
     "execution_count": 162
    }
   ],
   "source": [
    "#BASKETBALL\n",
    "#now lets see the best mvp in the basketball match\n",
    "final_basket_data[final_basket_data['rating points']==final_basket_data['rating points'].max()]"
   ]
  },
  {
   "cell_type": "code",
   "execution_count": 163,
   "metadata": {},
   "outputs": [
    {
     "output_type": "execute_result",
     "data": {
      "text/plain": [
       "   name     nickname  number team position  goals made  goals received  \\\n",
       "1     2  abdulrahman       8    A        F          15              20   \n",
       "\n",
       "   rating points  total goals  \n",
       "1             15           25  "
      ],
      "text/html": "<div>\n<style scoped>\n    .dataframe tbody tr th:only-of-type {\n        vertical-align: middle;\n    }\n\n    .dataframe tbody tr th {\n        vertical-align: top;\n    }\n\n    .dataframe thead th {\n        text-align: right;\n    }\n</style>\n<table border=\"1\" class=\"dataframe\">\n  <thead>\n    <tr style=\"text-align: right;\">\n      <th></th>\n      <th>name</th>\n      <th>nickname</th>\n      <th>number</th>\n      <th>team</th>\n      <th>position</th>\n      <th>goals made</th>\n      <th>goals received</th>\n      <th>rating points</th>\n      <th>total goals</th>\n    </tr>\n  </thead>\n  <tbody>\n    <tr>\n      <th>1</th>\n      <td>2</td>\n      <td>abdulrahman</td>\n      <td>8</td>\n      <td>A</td>\n      <td>F</td>\n      <td>15</td>\n      <td>20</td>\n      <td>15</td>\n      <td>25</td>\n    </tr>\n  </tbody>\n</table>\n</div>"
     },
     "metadata": {},
     "execution_count": 163
    }
   ],
   "source": [
    "#HANDBALL\n",
    "#BASKETBALL\n",
    "#now lets see the best mvp in the handball match\n",
    "final_hand_data[final_hand_data['rating points']==final_hand_data['rating points'].max()]"
   ]
  },
  {
   "cell_type": "code",
   "execution_count": null,
   "metadata": {},
   "outputs": [],
   "source": [
    "#the conclusion is that the basketball winner team is TEAM B with total of 32 points and,\n",
    "#the MVP player is abdulraqeeb with raiting point 52!,\n",
    "#and the handball winner team is TEAM A with total of 25 goals and,\n",
    "#the MVP player is abdulrahman with raiting point 15!"
   ]
  }
 ]
}