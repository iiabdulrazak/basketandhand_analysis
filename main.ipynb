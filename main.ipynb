{
 "metadata": {
  "language_info": {
   "codemirror_mode": {
    "name": "ipython",
    "version": 3
   },
   "file_extension": ".py",
   "mimetype": "text/x-python",
   "name": "python",
   "nbconvert_exporter": "python",
   "pygments_lexer": "ipython3",
   "version": "3.8.5"
  },
  "orig_nbformat": 4,
  "kernelspec": {
   "name": "python3",
   "display_name": "Python 3.8.5 64-bit ('env': venv)"
  },
  "interpreter": {
   "hash": "9d850c51ee04f83f0726e30bf8664ec939a9c72d73ef564e8f2cf0925ccbda39"
  }
 },
 "nbformat": 4,
 "nbformat_minor": 2,
 "cells": [
  {
   "cell_type": "code",
   "execution_count": 1,
   "metadata": {},
   "outputs": [],
   "source": [
    "#importing needed packages\n",
    "import pandas as pd\n",
    "import matplotlib.pyplot as plt"
   ]
  },
  {
   "cell_type": "code",
   "execution_count": 4,
   "metadata": {},
   "outputs": [],
   "source": [
    "#importing data files\n",
    "basket = pd.read_csv('basket.csv', names=('name','nickname','number','team','position','scored points','rebounds','assists'))\n",
    "hand = pd.read_csv('hand.csv', names=('name','nickname','number','team','position','goals made','goals received'))"
   ]
  },
  {
   "cell_type": "code",
   "execution_count": 5,
   "metadata": {},
   "outputs": [
    {
     "output_type": "execute_result",
     "data": {
      "text/plain": [
       "   name     nickname  number team position  scored points  rebounds  assists\n",
       "0     1   abdulrazak       4    A        G             10         2        7\n",
       "1     2  abdulrahman       8    A        F              0        10        0\n",
       "2     3  abdulraqeeb      15    A        C             15        10        4\n",
       "3     4     mohammed      16    B        G             20         0        0\n",
       "4     5        feras      23    B        F              4         7        7"
      ],
      "text/html": "<div>\n<style scoped>\n    .dataframe tbody tr th:only-of-type {\n        vertical-align: middle;\n    }\n\n    .dataframe tbody tr th {\n        vertical-align: top;\n    }\n\n    .dataframe thead th {\n        text-align: right;\n    }\n</style>\n<table border=\"1\" class=\"dataframe\">\n  <thead>\n    <tr style=\"text-align: right;\">\n      <th></th>\n      <th>name</th>\n      <th>nickname</th>\n      <th>number</th>\n      <th>team</th>\n      <th>position</th>\n      <th>scored points</th>\n      <th>rebounds</th>\n      <th>assists</th>\n    </tr>\n  </thead>\n  <tbody>\n    <tr>\n      <th>0</th>\n      <td>1</td>\n      <td>abdulrazak</td>\n      <td>4</td>\n      <td>A</td>\n      <td>G</td>\n      <td>10</td>\n      <td>2</td>\n      <td>7</td>\n    </tr>\n    <tr>\n      <th>1</th>\n      <td>2</td>\n      <td>abdulrahman</td>\n      <td>8</td>\n      <td>A</td>\n      <td>F</td>\n      <td>0</td>\n      <td>10</td>\n      <td>0</td>\n    </tr>\n    <tr>\n      <th>2</th>\n      <td>3</td>\n      <td>abdulraqeeb</td>\n      <td>15</td>\n      <td>A</td>\n      <td>C</td>\n      <td>15</td>\n      <td>10</td>\n      <td>4</td>\n    </tr>\n    <tr>\n      <th>3</th>\n      <td>4</td>\n      <td>mohammed</td>\n      <td>16</td>\n      <td>B</td>\n      <td>G</td>\n      <td>20</td>\n      <td>0</td>\n      <td>0</td>\n    </tr>\n    <tr>\n      <th>4</th>\n      <td>5</td>\n      <td>feras</td>\n      <td>23</td>\n      <td>B</td>\n      <td>F</td>\n      <td>4</td>\n      <td>7</td>\n      <td>7</td>\n    </tr>\n  </tbody>\n</table>\n</div>"
     },
     "metadata": {},
     "execution_count": 5
    }
   ],
   "source": [
    "#loading first five recoreds for basketball teams\n",
    "basket.head()"
   ]
  },
  {
   "cell_type": "code",
   "execution_count": 6,
   "metadata": {},
   "outputs": [
    {
     "output_type": "execute_result",
     "data": {
      "text/plain": [
       "   name     nickname  number team position  goals made  goals received\n",
       "0     1   abdulrazak       4    A        G           0              20\n",
       "1     2  abdulrahman       8    A        F          15              20\n",
       "2     3  abdulraqeeb      15    A        F          10              20\n",
       "3     4     mohammed      16    B        G           1              25\n",
       "4     5        feras      23    B        F          12              25"
      ],
      "text/html": "<div>\n<style scoped>\n    .dataframe tbody tr th:only-of-type {\n        vertical-align: middle;\n    }\n\n    .dataframe tbody tr th {\n        vertical-align: top;\n    }\n\n    .dataframe thead th {\n        text-align: right;\n    }\n</style>\n<table border=\"1\" class=\"dataframe\">\n  <thead>\n    <tr style=\"text-align: right;\">\n      <th></th>\n      <th>name</th>\n      <th>nickname</th>\n      <th>number</th>\n      <th>team</th>\n      <th>position</th>\n      <th>goals made</th>\n      <th>goals received</th>\n    </tr>\n  </thead>\n  <tbody>\n    <tr>\n      <th>0</th>\n      <td>1</td>\n      <td>abdulrazak</td>\n      <td>4</td>\n      <td>A</td>\n      <td>G</td>\n      <td>0</td>\n      <td>20</td>\n    </tr>\n    <tr>\n      <th>1</th>\n      <td>2</td>\n      <td>abdulrahman</td>\n      <td>8</td>\n      <td>A</td>\n      <td>F</td>\n      <td>15</td>\n      <td>20</td>\n    </tr>\n    <tr>\n      <th>2</th>\n      <td>3</td>\n      <td>abdulraqeeb</td>\n      <td>15</td>\n      <td>A</td>\n      <td>F</td>\n      <td>10</td>\n      <td>20</td>\n    </tr>\n    <tr>\n      <th>3</th>\n      <td>4</td>\n      <td>mohammed</td>\n      <td>16</td>\n      <td>B</td>\n      <td>G</td>\n      <td>1</td>\n      <td>25</td>\n    </tr>\n    <tr>\n      <th>4</th>\n      <td>5</td>\n      <td>feras</td>\n      <td>23</td>\n      <td>B</td>\n      <td>F</td>\n      <td>12</td>\n      <td>25</td>\n    </tr>\n  </tbody>\n</table>\n</div>"
     },
     "metadata": {},
     "execution_count": 6
    }
   ],
   "source": [
    "#loading first five recoreds for handball teams\n",
    "hand.head()"
   ]
  },
  {
   "cell_type": "code",
   "execution_count": 96,
   "metadata": {},
   "outputs": [
    {
     "output_type": "stream",
     "name": "stderr",
     "text": [
      "<ipython-input-96-14a9e89e4d40>:11: SettingWithCopyWarning: \nA value is trying to be set on a copy of a slice from a DataFrame.\nTry using .loc[row_indexer,col_indexer] = value instead\n\nSee the caveats in the documentation: https://pandas.pydata.org/pandas-docs/stable/user_guide/indexing.html#returning-a-view-versus-a-copy\n  goalKeeper['rating points'] = goalKeeper['scored points'].values*2 + goalKeeper['rebounds'].values*3 + goalKeeper['assists'].values*1\n<ipython-input-96-14a9e89e4d40>:14: SettingWithCopyWarning: \nA value is trying to be set on a copy of a slice from a DataFrame.\nTry using .loc[row_indexer,col_indexer] = value instead\n\nSee the caveats in the documentation: https://pandas.pydata.org/pandas-docs/stable/user_guide/indexing.html#returning-a-view-versus-a-copy\n  forwardPlayer['rating points'] = forwardPlayer['scored points'].values*2 + forwardPlayer['rebounds'].values*2 + forwardPlayer['assists'].values*2\n<ipython-input-96-14a9e89e4d40>:17: SettingWithCopyWarning: \nA value is trying to be set on a copy of a slice from a DataFrame.\nTry using .loc[row_indexer,col_indexer] = value instead\n\nSee the caveats in the documentation: https://pandas.pydata.org/pandas-docs/stable/user_guide/indexing.html#returning-a-view-versus-a-copy\n  centerPlayer['rating points'] = centerPlayer['scored points'].values*2 + centerPlayer['rebounds'].values*1 + centerPlayer['assists'].values*3\n"
     ]
    }
   ],
   "source": [
    "'''\n",
    "basketball equations we will use: guards(n*2 + n*3 + n*1),forward(n*2 + n*2 + n*2),center(n*2 + n*1 + n*3),\n",
    "and n = [scored point, rebounds, assists]\n",
    "\n",
    "handball equations we will use: goal keeper(50 + n*5 - n*(-2)),field player(n*20 + n*1 - n*(-1))\n",
    "n = [goals made, goals recived]\n",
    "'''\n",
    "\n",
    "#for extracting and implementing the equations we should first .loc the needed colmuns,\n",
    "#first lets implement the equation for goalkeepers\n",
    "goalKeeper = basket.loc[basket['position'] == 'G']\n",
    "goalKeeper['rating points'] = goalKeeper['scored points'].values*2 + goalKeeper['rebounds'].values*3 + goalKeeper['assists'].values*1\n",
    "\n",
    "#second lets implement the equation for forwardplayers\n",
    "forwardPlayer = basket.loc[basket['position'] == 'F']\n",
    "forwardPlayer['rating points'] = forwardPlayer['scored points'].values*2 + forwardPlayer['rebounds'].values*2 + forwardPlayer['assists'].values*2\n",
    "\n",
    "#last lets implement the equation for centerplayers\n",
    "centerPlayer = basket.loc[basket['position'] == 'C']\n",
    "centerPlayer['rating points'] = centerPlayer['scored points'].values*2 + centerPlayer['rebounds'].values*1 + centerPlayer['assists'].values*3"
   ]
  },
  {
   "cell_type": "code",
   "execution_count": 97,
   "metadata": {},
   "outputs": [
    {
     "output_type": "display_data",
     "data": {
      "text/plain": "   name    nickname  number team position  scored points  rebounds  assists  \\\n0     1  abdulrazak       4    A        G             10         2        7   \n3     4    mohammed      16    B        G             20         0        0   \n\n  total  rating points  \n0                   33  \n3                   40  ",
      "text/html": "<div>\n<style scoped>\n    .dataframe tbody tr th:only-of-type {\n        vertical-align: middle;\n    }\n\n    .dataframe tbody tr th {\n        vertical-align: top;\n    }\n\n    .dataframe thead th {\n        text-align: right;\n    }\n</style>\n<table border=\"1\" class=\"dataframe\">\n  <thead>\n    <tr style=\"text-align: right;\">\n      <th></th>\n      <th>name</th>\n      <th>nickname</th>\n      <th>number</th>\n      <th>team</th>\n      <th>position</th>\n      <th>scored points</th>\n      <th>rebounds</th>\n      <th>assists</th>\n      <th>total</th>\n      <th>rating points</th>\n    </tr>\n  </thead>\n  <tbody>\n    <tr>\n      <th>0</th>\n      <td>1</td>\n      <td>abdulrazak</td>\n      <td>4</td>\n      <td>A</td>\n      <td>G</td>\n      <td>10</td>\n      <td>2</td>\n      <td>7</td>\n      <td></td>\n      <td>33</td>\n    </tr>\n    <tr>\n      <th>3</th>\n      <td>4</td>\n      <td>mohammed</td>\n      <td>16</td>\n      <td>B</td>\n      <td>G</td>\n      <td>20</td>\n      <td>0</td>\n      <td>0</td>\n      <td></td>\n      <td>40</td>\n    </tr>\n  </tbody>\n</table>\n</div>"
     },
     "metadata": {}
    },
    {
     "output_type": "display_data",
     "data": {
      "text/plain": "   name     nickname  number team position  scored points  rebounds  assists  \\\n1     2  abdulrahman       8    A        F              0        10        0   \n4     5        feras      23    B        F              4         7        7   \n\n  total  rating points  \n1                   20  \n4                   36  ",
      "text/html": "<div>\n<style scoped>\n    .dataframe tbody tr th:only-of-type {\n        vertical-align: middle;\n    }\n\n    .dataframe tbody tr th {\n        vertical-align: top;\n    }\n\n    .dataframe thead th {\n        text-align: right;\n    }\n</style>\n<table border=\"1\" class=\"dataframe\">\n  <thead>\n    <tr style=\"text-align: right;\">\n      <th></th>\n      <th>name</th>\n      <th>nickname</th>\n      <th>number</th>\n      <th>team</th>\n      <th>position</th>\n      <th>scored points</th>\n      <th>rebounds</th>\n      <th>assists</th>\n      <th>total</th>\n      <th>rating points</th>\n    </tr>\n  </thead>\n  <tbody>\n    <tr>\n      <th>1</th>\n      <td>2</td>\n      <td>abdulrahman</td>\n      <td>8</td>\n      <td>A</td>\n      <td>F</td>\n      <td>0</td>\n      <td>10</td>\n      <td>0</td>\n      <td></td>\n      <td>20</td>\n    </tr>\n    <tr>\n      <th>4</th>\n      <td>5</td>\n      <td>feras</td>\n      <td>23</td>\n      <td>B</td>\n      <td>F</td>\n      <td>4</td>\n      <td>7</td>\n      <td>7</td>\n      <td></td>\n      <td>36</td>\n    </tr>\n  </tbody>\n</table>\n</div>"
     },
     "metadata": {}
    },
    {
     "output_type": "display_data",
     "data": {
      "text/plain": "   name     nickname  number team position  scored points  rebounds  assists  \\\n2     3  abdulraqeeb      15    A        C             15        10        4   \n5     6        tymor      42    B        C              8        10        0   \n\n  total  rating points  \n2                   52  \n5                   26  ",
      "text/html": "<div>\n<style scoped>\n    .dataframe tbody tr th:only-of-type {\n        vertical-align: middle;\n    }\n\n    .dataframe tbody tr th {\n        vertical-align: top;\n    }\n\n    .dataframe thead th {\n        text-align: right;\n    }\n</style>\n<table border=\"1\" class=\"dataframe\">\n  <thead>\n    <tr style=\"text-align: right;\">\n      <th></th>\n      <th>name</th>\n      <th>nickname</th>\n      <th>number</th>\n      <th>team</th>\n      <th>position</th>\n      <th>scored points</th>\n      <th>rebounds</th>\n      <th>assists</th>\n      <th>total</th>\n      <th>rating points</th>\n    </tr>\n  </thead>\n  <tbody>\n    <tr>\n      <th>2</th>\n      <td>3</td>\n      <td>abdulraqeeb</td>\n      <td>15</td>\n      <td>A</td>\n      <td>C</td>\n      <td>15</td>\n      <td>10</td>\n      <td>4</td>\n      <td></td>\n      <td>52</td>\n    </tr>\n    <tr>\n      <th>5</th>\n      <td>6</td>\n      <td>tymor</td>\n      <td>42</td>\n      <td>B</td>\n      <td>C</td>\n      <td>8</td>\n      <td>10</td>\n      <td>0</td>\n      <td></td>\n      <td>26</td>\n    </tr>\n  </tbody>\n</table>\n</div>"
     },
     "metadata": {}
    }
   ],
   "source": [
    "#lets see the results for goalkeepers, forwardsplayers and centerplayers\n",
    "display(goalKeeper,forwardPlayer,centerPlayer)"
   ]
  },
  {
   "cell_type": "code",
   "execution_count": 113,
   "metadata": {},
   "outputs": [
    {
     "output_type": "execute_result",
     "data": {
      "text/plain": [
       "   name     nickname  number team position  scored points  rebounds  assists  \\\n",
       "0     1   abdulrazak       4    A        G             10         2        7   \n",
       "3     4     mohammed      16    B        G             20         0        0   \n",
       "1     2  abdulrahman       8    A        F              0        10        0   \n",
       "4     5        feras      23    B        F              4         7        7   \n",
       "2     3  abdulraqeeb      15    A        C             15        10        4   \n",
       "\n",
       "  total  rating points  \n",
       "0                   33  \n",
       "3                   40  \n",
       "1                   20  \n",
       "4                   36  \n",
       "2                   52  "
      ],
      "text/html": "<div>\n<style scoped>\n    .dataframe tbody tr th:only-of-type {\n        vertical-align: middle;\n    }\n\n    .dataframe tbody tr th {\n        vertical-align: top;\n    }\n\n    .dataframe thead th {\n        text-align: right;\n    }\n</style>\n<table border=\"1\" class=\"dataframe\">\n  <thead>\n    <tr style=\"text-align: right;\">\n      <th></th>\n      <th>name</th>\n      <th>nickname</th>\n      <th>number</th>\n      <th>team</th>\n      <th>position</th>\n      <th>scored points</th>\n      <th>rebounds</th>\n      <th>assists</th>\n      <th>total</th>\n      <th>rating points</th>\n    </tr>\n  </thead>\n  <tbody>\n    <tr>\n      <th>0</th>\n      <td>1</td>\n      <td>abdulrazak</td>\n      <td>4</td>\n      <td>A</td>\n      <td>G</td>\n      <td>10</td>\n      <td>2</td>\n      <td>7</td>\n      <td></td>\n      <td>33</td>\n    </tr>\n    <tr>\n      <th>3</th>\n      <td>4</td>\n      <td>mohammed</td>\n      <td>16</td>\n      <td>B</td>\n      <td>G</td>\n      <td>20</td>\n      <td>0</td>\n      <td>0</td>\n      <td></td>\n      <td>40</td>\n    </tr>\n    <tr>\n      <th>1</th>\n      <td>2</td>\n      <td>abdulrahman</td>\n      <td>8</td>\n      <td>A</td>\n      <td>F</td>\n      <td>0</td>\n      <td>10</td>\n      <td>0</td>\n      <td></td>\n      <td>20</td>\n    </tr>\n    <tr>\n      <th>4</th>\n      <td>5</td>\n      <td>feras</td>\n      <td>23</td>\n      <td>B</td>\n      <td>F</td>\n      <td>4</td>\n      <td>7</td>\n      <td>7</td>\n      <td></td>\n      <td>36</td>\n    </tr>\n    <tr>\n      <th>2</th>\n      <td>3</td>\n      <td>abdulraqeeb</td>\n      <td>15</td>\n      <td>A</td>\n      <td>C</td>\n      <td>15</td>\n      <td>10</td>\n      <td>4</td>\n      <td></td>\n      <td>52</td>\n    </tr>\n  </tbody>\n</table>\n</div>"
     },
     "metadata": {},
     "execution_count": 113
    }
   ],
   "source": [
    "#lets merge all datas tigether\n",
    "data = pd.concat([goalKeeper,forwardPlayer,centerPlayer])\n",
    "#lets see the dataset\n",
    "data.head()"
   ]
  },
  {
   "cell_type": "code",
   "execution_count": 114,
   "metadata": {},
   "outputs": [
    {
     "output_type": "stream",
     "name": "stdout",
     "text": [
      "Team A\n"
     ]
    },
    {
     "output_type": "display_data",
     "data": {
      "text/plain": "   name     nickname  number team position  scored points  rebounds  assists  \\\n0     1   abdulrazak       4    A        G             10         2        7   \n1     2  abdulrahman       8    A        F              0        10        0   \n2     3  abdulraqeeb      15    A        C             15        10        4   \n\n  total  rating points  \n0                   33  \n1                   20  \n2                   52  ",
      "text/html": "<div>\n<style scoped>\n    .dataframe tbody tr th:only-of-type {\n        vertical-align: middle;\n    }\n\n    .dataframe tbody tr th {\n        vertical-align: top;\n    }\n\n    .dataframe thead th {\n        text-align: right;\n    }\n</style>\n<table border=\"1\" class=\"dataframe\">\n  <thead>\n    <tr style=\"text-align: right;\">\n      <th></th>\n      <th>name</th>\n      <th>nickname</th>\n      <th>number</th>\n      <th>team</th>\n      <th>position</th>\n      <th>scored points</th>\n      <th>rebounds</th>\n      <th>assists</th>\n      <th>total</th>\n      <th>rating points</th>\n    </tr>\n  </thead>\n  <tbody>\n    <tr>\n      <th>0</th>\n      <td>1</td>\n      <td>abdulrazak</td>\n      <td>4</td>\n      <td>A</td>\n      <td>G</td>\n      <td>10</td>\n      <td>2</td>\n      <td>7</td>\n      <td></td>\n      <td>33</td>\n    </tr>\n    <tr>\n      <th>1</th>\n      <td>2</td>\n      <td>abdulrahman</td>\n      <td>8</td>\n      <td>A</td>\n      <td>F</td>\n      <td>0</td>\n      <td>10</td>\n      <td>0</td>\n      <td></td>\n      <td>20</td>\n    </tr>\n    <tr>\n      <th>2</th>\n      <td>3</td>\n      <td>abdulraqeeb</td>\n      <td>15</td>\n      <td>A</td>\n      <td>C</td>\n      <td>15</td>\n      <td>10</td>\n      <td>4</td>\n      <td></td>\n      <td>52</td>\n    </tr>\n  </tbody>\n</table>\n</div>"
     },
     "metadata": {}
    },
    {
     "output_type": "stream",
     "name": "stdout",
     "text": [
      "\n\nTeam B\n"
     ]
    },
    {
     "output_type": "display_data",
     "data": {
      "text/plain": "   name  nickname  number team position  scored points  rebounds  assists  \\\n3     4  mohammed      16    B        G             20         0        0   \n4     5     feras      23    B        F              4         7        7   \n5     6     tymor      42    B        C              8        10        0   \n\n  total  rating points  \n3                   40  \n4                   36  \n5                   26  ",
      "text/html": "<div>\n<style scoped>\n    .dataframe tbody tr th:only-of-type {\n        vertical-align: middle;\n    }\n\n    .dataframe tbody tr th {\n        vertical-align: top;\n    }\n\n    .dataframe thead th {\n        text-align: right;\n    }\n</style>\n<table border=\"1\" class=\"dataframe\">\n  <thead>\n    <tr style=\"text-align: right;\">\n      <th></th>\n      <th>name</th>\n      <th>nickname</th>\n      <th>number</th>\n      <th>team</th>\n      <th>position</th>\n      <th>scored points</th>\n      <th>rebounds</th>\n      <th>assists</th>\n      <th>total</th>\n      <th>rating points</th>\n    </tr>\n  </thead>\n  <tbody>\n    <tr>\n      <th>3</th>\n      <td>4</td>\n      <td>mohammed</td>\n      <td>16</td>\n      <td>B</td>\n      <td>G</td>\n      <td>20</td>\n      <td>0</td>\n      <td>0</td>\n      <td></td>\n      <td>40</td>\n    </tr>\n    <tr>\n      <th>4</th>\n      <td>5</td>\n      <td>feras</td>\n      <td>23</td>\n      <td>B</td>\n      <td>F</td>\n      <td>4</td>\n      <td>7</td>\n      <td>7</td>\n      <td></td>\n      <td>36</td>\n    </tr>\n    <tr>\n      <th>5</th>\n      <td>6</td>\n      <td>tymor</td>\n      <td>42</td>\n      <td>B</td>\n      <td>C</td>\n      <td>8</td>\n      <td>10</td>\n      <td>0</td>\n      <td></td>\n      <td>26</td>\n    </tr>\n  </tbody>\n</table>\n</div>"
     },
     "metadata": {}
    }
   ],
   "source": [
    "#now lets see each team alone\n",
    "team1 = data.loc[data['team'] == 'A']\n",
    "print('Team A')\n",
    "display(team1)\n",
    "print('\\n')\n",
    "team2 = data.loc[data['team'] == 'B']\n",
    "print('Team B')\n",
    "display(team2)"
   ]
  },
  {
   "cell_type": "code",
   "execution_count": 115,
   "metadata": {},
   "outputs": [
    {
     "output_type": "stream",
     "name": "stderr",
     "text": [
      "<ipython-input-115-029712fa19a2>:2: SettingWithCopyWarning: \nA value is trying to be set on a copy of a slice from a DataFrame.\nTry using .loc[row_indexer,col_indexer] = value instead\n\nSee the caveats in the documentation: https://pandas.pydata.org/pandas-docs/stable/user_guide/indexing.html#returning-a-view-versus-a-copy\n  team1['total points'] = team1['scored points'].sum()\n<ipython-input-115-029712fa19a2>:3: SettingWithCopyWarning: \nA value is trying to be set on a copy of a slice from a DataFrame.\nTry using .loc[row_indexer,col_indexer] = value instead\n\nSee the caveats in the documentation: https://pandas.pydata.org/pandas-docs/stable/user_guide/indexing.html#returning-a-view-versus-a-copy\n  team2['total points'] = team2['scored points'].sum()\n"
     ]
    },
    {
     "output_type": "display_data",
     "data": {
      "text/plain": "   name     nickname  number team position  scored points  rebounds  assists  \\\n0     1   abdulrazak       4    A        G             10         2        7   \n1     2  abdulrahman       8    A        F              0        10        0   \n2     3  abdulraqeeb      15    A        C             15        10        4   \n\n  total  rating points  total points  \n0                   33            25  \n1                   20            25  \n2                   52            25  ",
      "text/html": "<div>\n<style scoped>\n    .dataframe tbody tr th:only-of-type {\n        vertical-align: middle;\n    }\n\n    .dataframe tbody tr th {\n        vertical-align: top;\n    }\n\n    .dataframe thead th {\n        text-align: right;\n    }\n</style>\n<table border=\"1\" class=\"dataframe\">\n  <thead>\n    <tr style=\"text-align: right;\">\n      <th></th>\n      <th>name</th>\n      <th>nickname</th>\n      <th>number</th>\n      <th>team</th>\n      <th>position</th>\n      <th>scored points</th>\n      <th>rebounds</th>\n      <th>assists</th>\n      <th>total</th>\n      <th>rating points</th>\n      <th>total points</th>\n    </tr>\n  </thead>\n  <tbody>\n    <tr>\n      <th>0</th>\n      <td>1</td>\n      <td>abdulrazak</td>\n      <td>4</td>\n      <td>A</td>\n      <td>G</td>\n      <td>10</td>\n      <td>2</td>\n      <td>7</td>\n      <td></td>\n      <td>33</td>\n      <td>25</td>\n    </tr>\n    <tr>\n      <th>1</th>\n      <td>2</td>\n      <td>abdulrahman</td>\n      <td>8</td>\n      <td>A</td>\n      <td>F</td>\n      <td>0</td>\n      <td>10</td>\n      <td>0</td>\n      <td></td>\n      <td>20</td>\n      <td>25</td>\n    </tr>\n    <tr>\n      <th>2</th>\n      <td>3</td>\n      <td>abdulraqeeb</td>\n      <td>15</td>\n      <td>A</td>\n      <td>C</td>\n      <td>15</td>\n      <td>10</td>\n      <td>4</td>\n      <td></td>\n      <td>52</td>\n      <td>25</td>\n    </tr>\n  </tbody>\n</table>\n</div>"
     },
     "metadata": {}
    },
    {
     "output_type": "display_data",
     "data": {
      "text/plain": "   name  nickname  number team position  scored points  rebounds  assists  \\\n3     4  mohammed      16    B        G             20         0        0   \n4     5     feras      23    B        F              4         7        7   \n5     6     tymor      42    B        C              8        10        0   \n\n  total  rating points  total points  \n3                   40            32  \n4                   36            32  \n5                   26            32  ",
      "text/html": "<div>\n<style scoped>\n    .dataframe tbody tr th:only-of-type {\n        vertical-align: middle;\n    }\n\n    .dataframe tbody tr th {\n        vertical-align: top;\n    }\n\n    .dataframe thead th {\n        text-align: right;\n    }\n</style>\n<table border=\"1\" class=\"dataframe\">\n  <thead>\n    <tr style=\"text-align: right;\">\n      <th></th>\n      <th>name</th>\n      <th>nickname</th>\n      <th>number</th>\n      <th>team</th>\n      <th>position</th>\n      <th>scored points</th>\n      <th>rebounds</th>\n      <th>assists</th>\n      <th>total</th>\n      <th>rating points</th>\n      <th>total points</th>\n    </tr>\n  </thead>\n  <tbody>\n    <tr>\n      <th>3</th>\n      <td>4</td>\n      <td>mohammed</td>\n      <td>16</td>\n      <td>B</td>\n      <td>G</td>\n      <td>20</td>\n      <td>0</td>\n      <td>0</td>\n      <td></td>\n      <td>40</td>\n      <td>32</td>\n    </tr>\n    <tr>\n      <th>4</th>\n      <td>5</td>\n      <td>feras</td>\n      <td>23</td>\n      <td>B</td>\n      <td>F</td>\n      <td>4</td>\n      <td>7</td>\n      <td>7</td>\n      <td></td>\n      <td>36</td>\n      <td>32</td>\n    </tr>\n    <tr>\n      <th>5</th>\n      <td>6</td>\n      <td>tymor</td>\n      <td>42</td>\n      <td>B</td>\n      <td>C</td>\n      <td>8</td>\n      <td>10</td>\n      <td>0</td>\n      <td></td>\n      <td>26</td>\n      <td>32</td>\n    </tr>\n  </tbody>\n</table>\n</div>"
     },
     "metadata": {}
    }
   ],
   "source": [
    "#now lets see the winner team\n",
    "team1['total points'] = team1['scored points'].sum()\n",
    "team2['total points'] = team2['scored points'].sum()\n",
    "\n",
    "display(team1)\n",
    "display(team2)"
   ]
  },
  {
   "cell_type": "code",
   "execution_count": 117,
   "metadata": {},
   "outputs": [
    {
     "output_type": "execute_result",
     "data": {
      "text/plain": [
       "   name     nickname  number team position  scored points  rebounds  assists  \\\n",
       "0     1   abdulrazak       4    A        G             10         2        7   \n",
       "1     2  abdulrahman       8    A        F              0        10        0   \n",
       "2     3  abdulraqeeb      15    A        C             15        10        4   \n",
       "3     4     mohammed      16    B        G             20         0        0   \n",
       "4     5        feras      23    B        F              4         7        7   \n",
       "5     6        tymor      42    B        C              8        10        0   \n",
       "\n",
       "  total  rating points  total points  \n",
       "0                   33            25  \n",
       "1                   20            25  \n",
       "2                   52            25  \n",
       "3                   40            32  \n",
       "4                   36            32  \n",
       "5                   26            32  "
      ],
      "text/html": "<div>\n<style scoped>\n    .dataframe tbody tr th:only-of-type {\n        vertical-align: middle;\n    }\n\n    .dataframe tbody tr th {\n        vertical-align: top;\n    }\n\n    .dataframe thead th {\n        text-align: right;\n    }\n</style>\n<table border=\"1\" class=\"dataframe\">\n  <thead>\n    <tr style=\"text-align: right;\">\n      <th></th>\n      <th>name</th>\n      <th>nickname</th>\n      <th>number</th>\n      <th>team</th>\n      <th>position</th>\n      <th>scored points</th>\n      <th>rebounds</th>\n      <th>assists</th>\n      <th>total</th>\n      <th>rating points</th>\n      <th>total points</th>\n    </tr>\n  </thead>\n  <tbody>\n    <tr>\n      <th>0</th>\n      <td>1</td>\n      <td>abdulrazak</td>\n      <td>4</td>\n      <td>A</td>\n      <td>G</td>\n      <td>10</td>\n      <td>2</td>\n      <td>7</td>\n      <td></td>\n      <td>33</td>\n      <td>25</td>\n    </tr>\n    <tr>\n      <th>1</th>\n      <td>2</td>\n      <td>abdulrahman</td>\n      <td>8</td>\n      <td>A</td>\n      <td>F</td>\n      <td>0</td>\n      <td>10</td>\n      <td>0</td>\n      <td></td>\n      <td>20</td>\n      <td>25</td>\n    </tr>\n    <tr>\n      <th>2</th>\n      <td>3</td>\n      <td>abdulraqeeb</td>\n      <td>15</td>\n      <td>A</td>\n      <td>C</td>\n      <td>15</td>\n      <td>10</td>\n      <td>4</td>\n      <td></td>\n      <td>52</td>\n      <td>25</td>\n    </tr>\n    <tr>\n      <th>3</th>\n      <td>4</td>\n      <td>mohammed</td>\n      <td>16</td>\n      <td>B</td>\n      <td>G</td>\n      <td>20</td>\n      <td>0</td>\n      <td>0</td>\n      <td></td>\n      <td>40</td>\n      <td>32</td>\n    </tr>\n    <tr>\n      <th>4</th>\n      <td>5</td>\n      <td>feras</td>\n      <td>23</td>\n      <td>B</td>\n      <td>F</td>\n      <td>4</td>\n      <td>7</td>\n      <td>7</td>\n      <td></td>\n      <td>36</td>\n      <td>32</td>\n    </tr>\n    <tr>\n      <th>5</th>\n      <td>6</td>\n      <td>tymor</td>\n      <td>42</td>\n      <td>B</td>\n      <td>C</td>\n      <td>8</td>\n      <td>10</td>\n      <td>0</td>\n      <td></td>\n      <td>26</td>\n      <td>32</td>\n    </tr>\n  </tbody>\n</table>\n</div>"
     },
     "metadata": {},
     "execution_count": 117
    }
   ],
   "source": [
    "#we saw that team B is the winner team with total 32 scored points against team A with 25 points,\n",
    "final_data = pd.concat([team1,team2])\n",
    "final_data"
   ]
  },
  {
   "cell_type": "code",
   "execution_count": 127,
   "metadata": {},
   "outputs": [
    {
     "output_type": "execute_result",
     "data": {
      "text/plain": [
       "   name     nickname  number team position  scored points  rebounds  assists  \\\n",
       "2     3  abdulraqeeb      15    A        C             15        10        4   \n",
       "\n",
       "  total  rating points  total points  \n",
       "2                   52            25  "
      ],
      "text/html": "<div>\n<style scoped>\n    .dataframe tbody tr th:only-of-type {\n        vertical-align: middle;\n    }\n\n    .dataframe tbody tr th {\n        vertical-align: top;\n    }\n\n    .dataframe thead th {\n        text-align: right;\n    }\n</style>\n<table border=\"1\" class=\"dataframe\">\n  <thead>\n    <tr style=\"text-align: right;\">\n      <th></th>\n      <th>name</th>\n      <th>nickname</th>\n      <th>number</th>\n      <th>team</th>\n      <th>position</th>\n      <th>scored points</th>\n      <th>rebounds</th>\n      <th>assists</th>\n      <th>total</th>\n      <th>rating points</th>\n      <th>total points</th>\n    </tr>\n  </thead>\n  <tbody>\n    <tr>\n      <th>2</th>\n      <td>3</td>\n      <td>abdulraqeeb</td>\n      <td>15</td>\n      <td>A</td>\n      <td>C</td>\n      <td>15</td>\n      <td>10</td>\n      <td>4</td>\n      <td></td>\n      <td>52</td>\n      <td>25</td>\n    </tr>\n  </tbody>\n</table>\n</div>"
     },
     "metadata": {},
     "execution_count": 127
    }
   ],
   "source": [
    "#now lets see the best mvp in the match\n",
    "final_data[final_data['rating points']==final_data['rating points'].max()]"
   ]
  },
  {
   "cell_type": "code",
   "execution_count": null,
   "metadata": {},
   "outputs": [],
   "source": [
    "#the conclusion is that the winner team is TEAM B with total of 32 points and,\n",
    "#the MVP player is abdulraqeeb with raiting point 52!"
   ]
  }
 ]
}